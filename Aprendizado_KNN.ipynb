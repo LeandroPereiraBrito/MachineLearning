{
 "cells": [
  {
   "cell_type": "code",
   "execution_count": 2,
   "metadata": {},
   "outputs": [],
   "source": [
    "import pandas as pd\n",
    "import numpy as np \n",
    "import seaborn as sns\n",
    "import ipywidgets as widgets \n",
    "from IPython.display import display\n",
    "%matplotlib inline\n",
    "import matplotlib.pyplot as plt \n",
    "from sklearn import metrics \n",
    "style = {'Descrição_Variaveis':'Initial'}"
   ]
  },
  {
   "cell_type": "code",
   "execution_count": 3,
   "metadata": {},
   "outputs": [
    {
     "data": {
      "text/html": [
       "<div>\n",
       "<style scoped>\n",
       "    .dataframe tbody tr th:only-of-type {\n",
       "        vertical-align: middle;\n",
       "    }\n",
       "\n",
       "    .dataframe tbody tr th {\n",
       "        vertical-align: top;\n",
       "    }\n",
       "\n",
       "    .dataframe thead th {\n",
       "        text-align: right;\n",
       "    }\n",
       "</style>\n",
       "<table border=\"1\" class=\"dataframe\">\n",
       "  <thead>\n",
       "    <tr style=\"text-align: right;\">\n",
       "      <th></th>\n",
       "      <th>ID_Veicular</th>\n",
       "      <th>Laterais</th>\n",
       "      <th>Dianteira</th>\n",
       "      <th>Traseira</th>\n",
       "      <th>Teto</th>\n",
       "      <th>Dano_Veicular</th>\n",
       "    </tr>\n",
       "  </thead>\n",
       "  <tbody>\n",
       "    <tr>\n",
       "      <th>0</th>\n",
       "      <td>0</td>\n",
       "      <td>5.1</td>\n",
       "      <td>3.5</td>\n",
       "      <td>1.4</td>\n",
       "      <td>0.2</td>\n",
       "      <td>Dano-Alto</td>\n",
       "    </tr>\n",
       "    <tr>\n",
       "      <th>1</th>\n",
       "      <td>1</td>\n",
       "      <td>4.9</td>\n",
       "      <td>3.0</td>\n",
       "      <td>1.4</td>\n",
       "      <td>0.2</td>\n",
       "      <td>Dano-Alto</td>\n",
       "    </tr>\n",
       "    <tr>\n",
       "      <th>2</th>\n",
       "      <td>2</td>\n",
       "      <td>4.7</td>\n",
       "      <td>3.2</td>\n",
       "      <td>1.3</td>\n",
       "      <td>0.2</td>\n",
       "      <td>Dano-Alto</td>\n",
       "    </tr>\n",
       "    <tr>\n",
       "      <th>3</th>\n",
       "      <td>3</td>\n",
       "      <td>4.6</td>\n",
       "      <td>3.1</td>\n",
       "      <td>1.5</td>\n",
       "      <td>0.2</td>\n",
       "      <td>Dano-Alto</td>\n",
       "    </tr>\n",
       "    <tr>\n",
       "      <th>4</th>\n",
       "      <td>4</td>\n",
       "      <td>5.0</td>\n",
       "      <td>3.6</td>\n",
       "      <td>1.4</td>\n",
       "      <td>0.2</td>\n",
       "      <td>Dano-Alto</td>\n",
       "    </tr>\n",
       "  </tbody>\n",
       "</table>\n",
       "</div>"
      ],
      "text/plain": [
       "   ID_Veicular  Laterais  Dianteira  Traseira  Teto Dano_Veicular\n",
       "0            0       5.1        3.5       1.4   0.2     Dano-Alto\n",
       "1            1       4.9        3.0       1.4   0.2     Dano-Alto\n",
       "2            2       4.7        3.2       1.3   0.2     Dano-Alto\n",
       "3            3       4.6        3.1       1.5   0.2     Dano-Alto\n",
       "4            4       5.0        3.6       1.4   0.2     Dano-Alto"
      ]
     },
     "execution_count": 3,
     "metadata": {},
     "output_type": "execute_result"
    }
   ],
   "source": [
    "# Carregar os dados \n",
    "file_name = 'Dados/dano.csv'\n",
    "ds = pd.read_csv(file_name, delimiter=';')\n",
    "ds.head()"
   ]
  },
  {
   "cell_type": "code",
   "execution_count": 4,
   "metadata": {},
   "outputs": [
    {
     "name": "stdout",
     "output_type": "stream",
     "text": [
      "Data set tem 150 linhas e 6 colunas\n"
     ]
    }
   ],
   "source": [
    "# Contagem de linhas e colunas \n",
    "print(f'Data set tem {ds.shape[0]} linhas e {ds.shape[1]} colunas')"
   ]
  },
  {
   "cell_type": "code",
   "execution_count": 13,
   "metadata": {},
   "outputs": [],
   "source": [
    "# Visualizar os dados  \n",
    "wig_col = widgets.Dropdown(\n",
    "                            options =[col for col in ds.columns.tolist() if col.startswith(('Laterais','Dianteira','Traseira','Teto'))],\n",
    "                            description='veja a coluna para os detalhes',\n",
    "                            disabled=False,\n",
    "                            layout=widgets.Layout(width='40%', heigth='40px'),\n",
    "                            style=style   \n",
    "                            )"
   ]
  },
  {
   "cell_type": "code",
   "execution_count": 18,
   "metadata": {},
   "outputs": [
    {
     "data": {
      "application/vnd.jupyter.widget-view+json": {
       "model_id": "19174b3030114abdb43bd6ea7f48068a",
       "version_major": 2,
       "version_minor": 0
      },
      "text/plain": [
       "Dropdown(description='veja a coluna para os detalhes', index=1, layout=Layout(width='40%'), options=('Laterais…"
      ]
     },
     "metadata": {},
     "output_type": "display_data"
    },
    {
     "data": {
      "image/png": "[encoded data removed]",
      "text/plain": [
       "<Figure size 842.4x595.44 with 1 Axes>"
      ]
     },
     "metadata": {
      "needs_background": "light"
     },
     "output_type": "display_data"
    }
   ],
   "source": [
    "display(wig_col)\n",
    "\n",
    "sns.catplot(x='Dano_Veicular', y=wig_col.value, kind=\"boxen\", data=ds, height=8.27, aspect=11.7/8.27);"
   ]
  },
  {
   "cell_type": "code",
   "execution_count": 19,
   "metadata": {},
   "outputs": [],
   "source": [
    "#Separando os dados \n",
    "x = ds.iloc[:,:-1].values\n",
    "y = ds.iloc[:,-1].values\n"
   ]
  },
  {
   "cell_type": "code",
   "execution_count": 24,
   "metadata": {},
   "outputs": [],
   "source": [
    "# Transformar as palavras em numeros \n",
    "from sklearn.preprocessing import LabelEncoder \n",
    "\n",
    "label = LabelEncoder()\n",
    "ds['Dano_Veicular'] = label.fit_transform(ds['Dano_Veicular'])"
   ]
  },
  {
   "cell_type": "code",
   "execution_count": 25,
   "metadata": {},
   "outputs": [
    {
     "data": {
      "text/plain": [
       "array([0, 2, 1])"
      ]
     },
     "execution_count": 25,
     "metadata": {},
     "output_type": "execute_result"
    }
   ],
   "source": [
    "#Checando os valores\n",
    "ds['Dano_Veicular'].unique()"
   ]
  },
  {
   "cell_type": "code",
   "execution_count": 27,
   "metadata": {},
   "outputs": [
    {
     "data": {
      "application/vnd.jupyter.widget-view+json": {
       "model_id": "25f28e929870400dae87656cc1c0eb6d",
       "version_major": 2,
       "version_minor": 0
      },
      "text/plain": [
       "FloatSlider(value=0.2, description='Teste size', max=0.6, min=0.01)"
      ]
     },
     "metadata": {},
     "output_type": "display_data"
    }
   ],
   "source": [
    "# Criar um percentual dinamico para elencar as variaveis de teste\n",
    "from sklearn.model_selection import train_test_split\n",
    "teste_size  =  widgets.FloatSlider(min=0.01, max=0.6, value=0.2, description=\"Teste size\", tooltips=['Usally 20-30%'])\n",
    "\n",
    "display(teste_size)"
   ]
  },
  {
   "cell_type": "code",
   "execution_count": 29,
   "metadata": {},
   "outputs": [],
   "source": [
    "#Separando os dados de teste de treino \n",
    "x_test, x_train, y_test, y_train = train_test_split(x, y, test_size=teste_size.value, random_state=7)"
   ]
  },
  {
   "cell_type": "code",
   "execution_count": 30,
   "metadata": {},
   "outputs": [],
   "source": [
    "# Padronizar as variaveis explicativas\n",
    "from sklearn.preprocessing import StandardScaler\n",
    "sc = StandardScaler()\n",
    "\n",
    "x_train = sc.fit_transform(x_train)\n",
    "x_test = sc.fit_transform(x_test)"
   ]
  },
  {
   "cell_type": "code",
   "execution_count": 32,
   "metadata": {},
   "outputs": [
    {
     "data": {
      "application/vnd.jupyter.widget-view+json": {
       "model_id": "2ec15a717d93494eb3160eb26c3c7f8c",
       "version_major": 2,
       "version_minor": 0
      },
      "text/plain": [
       "Dropdown(description='Number of Neighbours', options=(1, 10, 30, 100), value=1)"
      ]
     },
     "metadata": {},
     "output_type": "display_data"
    }
   ],
   "source": [
    "# Construir a maquina preditiva \n",
    "from sklearn.neighbors import KNeighborsClassifier\n",
    "\n",
    "# Configiuração de parametros \n",
    "neigh_wig = widgets.Dropdown(options=[1, 10, 30, 100],\n",
    "                            description=\"Number of Neighbours\", style=style)\n",
    "\n",
    "display(neigh_wig)"
   ]
  },
  {
   "cell_type": "code",
   "execution_count": 34,
   "metadata": {},
   "outputs": [
    {
     "name": "stdout",
     "output_type": "stream",
     "text": [
      "Valores Preditos :\n",
      " ['Dano-Baixo' 'Dano-Medio' 'Dano-Alto' 'Dano-Baixo' 'Dano-Medio'\n",
      " 'Dano-Alto' 'Dano-Alto' 'Dano-Alto' 'Dano-Alto' 'Dano-Baixo' 'Dano-Baixo'\n",
      " 'Dano-Medio' 'Dano-Baixo' 'Dano-Baixo' 'Dano-Medio' 'Dano-Alto'\n",
      " 'Dano-Medio' 'Dano-Medio' 'Dano-Baixo' 'Dano-Alto' 'Dano-Alto'\n",
      " 'Dano-Alto' 'Dano-Baixo' 'Dano-Alto' 'Dano-Baixo' 'Dano-Medio'\n",
      " 'Dano-Medio' 'Dano-Medio' 'Dano-Alto' 'Dano-Alto' 'Dano-Alto'\n",
      " 'Dano-Medio' 'Dano-Baixo' 'Dano-Medio' 'Dano-Medio' 'Dano-Alto'\n",
      " 'Dano-Baixo' 'Dano-Alto' 'Dano-Alto' 'Dano-Baixo' 'Dano-Baixo'\n",
      " 'Dano-Alto' 'Dano-Baixo' 'Dano-Alto' 'Dano-Medio' 'Dano-Baixo'\n",
      " 'Dano-Medio' 'Dano-Alto' 'Dano-Medio' 'Dano-Alto' 'Dano-Baixo'\n",
      " 'Dano-Baixo' 'Dano-Medio' 'Dano-Alto' 'Dano-Alto' 'Dano-Medio'\n",
      " 'Dano-Baixo' 'Dano-Alto' 'Dano-Baixo' 'Dano-Baixo' 'Dano-Medio'\n",
      " 'Dano-Alto' 'Dano-Medio' 'Dano-Alto' 'Dano-Baixo' 'Dano-Baixo'\n",
      " 'Dano-Alto' 'Dano-Alto' 'Dano-Baixo' 'Dano-Medio' 'Dano-Baixo'\n",
      " 'Dano-Baixo' 'Dano-Medio' 'Dano-Alto' 'Dano-Alto' 'Dano-Baixo'\n",
      " 'Dano-Alto' 'Dano-Alto' 'Dano-Baixo' 'Dano-Baixo' 'Dano-Baixo'\n",
      " 'Dano-Medio' 'Dano-Baixo' 'Dano-Alto' 'Dano-Baixo' 'Dano-Alto'\n",
      " 'Dano-Alto' 'Dano-Medio' 'Dano-Medio' 'Dano-Baixo' 'Dano-Alto'\n",
      " 'Dano-Medio' 'Dano-Medio' 'Dano-Baixo' 'Dano-Baixo' 'Dano-Medio'\n",
      " 'Dano-Baixo' 'Dano-Alto' 'Dano-Medio' 'Dano-Medio' 'Dano-Alto'\n",
      " 'Dano-Alto' 'Dano-Alto' 'Dano-Medio' 'Dano-Medio' 'Dano-Alto'\n",
      " 'Dano-Baixo' 'Dano-Baixo' 'Dano-Baixo' 'Dano-Baixo' 'Dano-Alto'\n",
      " 'Dano-Baixo' 'Dano-Medio' 'Dano-Baixo' 'Dano-Alto' 'Dano-Baixo'\n",
      " 'Dano-Medio' 'Dano-Baixo' 'Dano-Medio' 'Dano-Alto']\n",
      "Valores Preditos :\n",
      " ['Dano-Baixo' 'Dano-Medio' 'Dano-Alto' 'Dano-Baixo' 'Dano-Medio'\n",
      " 'Dano-Alto' 'Dano-Alto' 'Dano-Alto' 'Dano-Alto' 'Dano-Baixo' 'Dano-Baixo'\n",
      " 'Dano-Medio' 'Dano-Baixo' 'Dano-Baixo' 'Dano-Medio' 'Dano-Alto'\n",
      " 'Dano-Medio' 'Dano-Medio' 'Dano-Baixo' 'Dano-Alto' 'Dano-Alto'\n",
      " 'Dano-Alto' 'Dano-Baixo' 'Dano-Alto' 'Dano-Baixo' 'Dano-Medio'\n",
      " 'Dano-Medio' 'Dano-Medio' 'Dano-Alto' 'Dano-Alto' 'Dano-Alto'\n",
      " 'Dano-Medio' 'Dano-Baixo' 'Dano-Medio' 'Dano-Medio' 'Dano-Alto'\n",
      " 'Dano-Baixo' 'Dano-Alto' 'Dano-Alto' 'Dano-Baixo' 'Dano-Baixo'\n",
      " 'Dano-Alto' 'Dano-Baixo' 'Dano-Alto' 'Dano-Medio' 'Dano-Baixo'\n",
      " 'Dano-Medio' 'Dano-Alto' 'Dano-Medio' 'Dano-Alto' 'Dano-Baixo'\n",
      " 'Dano-Baixo' 'Dano-Medio' 'Dano-Alto' 'Dano-Alto' 'Dano-Medio'\n",
      " 'Dano-Baixo' 'Dano-Alto' 'Dano-Baixo' 'Dano-Baixo' 'Dano-Medio'\n",
      " 'Dano-Alto' 'Dano-Medio' 'Dano-Alto' 'Dano-Baixo' 'Dano-Baixo'\n",
      " 'Dano-Alto' 'Dano-Alto' 'Dano-Baixo' 'Dano-Medio' 'Dano-Baixo'\n",
      " 'Dano-Baixo' 'Dano-Medio' 'Dano-Alto' 'Dano-Alto' 'Dano-Baixo'\n",
      " 'Dano-Alto' 'Dano-Alto' 'Dano-Medio' 'Dano-Baixo' 'Dano-Baixo'\n",
      " 'Dano-Medio' 'Dano-Medio' 'Dano-Alto' 'Dano-Baixo' 'Dano-Alto'\n",
      " 'Dano-Alto' 'Dano-Medio' 'Dano-Medio' 'Dano-Baixo' 'Dano-Alto'\n",
      " 'Dano-Medio' 'Dano-Medio' 'Dano-Baixo' 'Dano-Baixo' 'Dano-Medio'\n",
      " 'Dano-Baixo' 'Dano-Alto' 'Dano-Medio' 'Dano-Medio' 'Dano-Alto'\n",
      " 'Dano-Alto' 'Dano-Alto' 'Dano-Medio' 'Dano-Medio' 'Dano-Alto'\n",
      " 'Dano-Baixo' 'Dano-Baixo' 'Dano-Medio' 'Dano-Baixo' 'Dano-Alto'\n",
      " 'Dano-Baixo' 'Dano-Medio' 'Dano-Medio' 'Dano-Alto' 'Dano-Baixo'\n",
      " 'Dano-Medio' 'Dano-Baixo' 'Dano-Medio' 'Dano-Alto']\n"
     ]
    }
   ],
   "source": [
    "maquina = KNeighborsClassifier(n_neighbors=neigh_wig.value)\n",
    "\n",
    "maquina =  maquina.fit(x_train, y_train)\n",
    "\n",
    "y_pred = maquina.predict(x_test)\n",
    "\n",
    "print(\"Valores Preditos :\\n\",y_pred)\n",
    "print(\"Valores Preditos :\\n\",y_test)"
   ]
  },
  {
   "cell_type": "code",
   "execution_count": 38,
   "metadata": {},
   "outputs": [
    {
     "name": "stdout",
     "output_type": "stream",
     "text": [
      "Acuracia =  0.9666666666666667\n"
     ]
    }
   ],
   "source": [
    "print('Acuracia = ',metrics.accuracy_score(y_test, y_pred))"
   ]
  },
  {
   "cell_type": "code",
   "execution_count": 39,
   "metadata": {},
   "outputs": [
    {
     "name": "stdout",
     "output_type": "stream",
     "text": [
      "Real vs predito \n",
      " ----------------------- \n",
      "\n"
     ]
    },
    {
     "data": {
      "text/html": [
       "<div>\n",
       "<style scoped>\n",
       "    .dataframe tbody tr th:only-of-type {\n",
       "        vertical-align: middle;\n",
       "    }\n",
       "\n",
       "    .dataframe tbody tr th {\n",
       "        vertical-align: top;\n",
       "    }\n",
       "\n",
       "    .dataframe thead th {\n",
       "        text-align: right;\n",
       "    }\n",
       "</style>\n",
       "<table border=\"1\" class=\"dataframe\">\n",
       "  <thead>\n",
       "    <tr style=\"text-align: right;\">\n",
       "      <th></th>\n",
       "      <th>Real</th>\n",
       "      <th>Predito</th>\n",
       "    </tr>\n",
       "  </thead>\n",
       "  <tbody>\n",
       "    <tr>\n",
       "      <th>0</th>\n",
       "      <td>Dano-Baixo</td>\n",
       "      <td>Dano-Baixo</td>\n",
       "    </tr>\n",
       "    <tr>\n",
       "      <th>1</th>\n",
       "      <td>Dano-Medio</td>\n",
       "      <td>Dano-Medio</td>\n",
       "    </tr>\n",
       "    <tr>\n",
       "      <th>2</th>\n",
       "      <td>Dano-Alto</td>\n",
       "      <td>Dano-Alto</td>\n",
       "    </tr>\n",
       "    <tr>\n",
       "      <th>3</th>\n",
       "      <td>Dano-Baixo</td>\n",
       "      <td>Dano-Baixo</td>\n",
       "    </tr>\n",
       "    <tr>\n",
       "      <th>4</th>\n",
       "      <td>Dano-Medio</td>\n",
       "      <td>Dano-Medio</td>\n",
       "    </tr>\n",
       "    <tr>\n",
       "      <th>...</th>\n",
       "      <td>...</td>\n",
       "      <td>...</td>\n",
       "    </tr>\n",
       "    <tr>\n",
       "      <th>115</th>\n",
       "      <td>Dano-Baixo</td>\n",
       "      <td>Dano-Baixo</td>\n",
       "    </tr>\n",
       "    <tr>\n",
       "      <th>116</th>\n",
       "      <td>Dano-Medio</td>\n",
       "      <td>Dano-Medio</td>\n",
       "    </tr>\n",
       "    <tr>\n",
       "      <th>117</th>\n",
       "      <td>Dano-Baixo</td>\n",
       "      <td>Dano-Baixo</td>\n",
       "    </tr>\n",
       "    <tr>\n",
       "      <th>118</th>\n",
       "      <td>Dano-Medio</td>\n",
       "      <td>Dano-Medio</td>\n",
       "    </tr>\n",
       "    <tr>\n",
       "      <th>119</th>\n",
       "      <td>Dano-Alto</td>\n",
       "      <td>Dano-Alto</td>\n",
       "    </tr>\n",
       "  </tbody>\n",
       "</table>\n",
       "<p>120 rows × 2 columns</p>\n",
       "</div>"
      ],
      "text/plain": [
       "           Real     Predito\n",
       "0    Dano-Baixo  Dano-Baixo\n",
       "1    Dano-Medio  Dano-Medio\n",
       "2     Dano-Alto   Dano-Alto\n",
       "3    Dano-Baixo  Dano-Baixo\n",
       "4    Dano-Medio  Dano-Medio\n",
       "..          ...         ...\n",
       "115  Dano-Baixo  Dano-Baixo\n",
       "116  Dano-Medio  Dano-Medio\n",
       "117  Dano-Baixo  Dano-Baixo\n",
       "118  Dano-Medio  Dano-Medio\n",
       "119   Dano-Alto   Dano-Alto\n",
       "\n",
       "[120 rows x 2 columns]"
      ]
     },
     "execution_count": 39,
     "metadata": {},
     "output_type": "execute_result"
    }
   ],
   "source": [
    "print('Real vs predito \\n ----------------------- \\n')\n",
    "\n",
    "erro = pd.DataFrame({'Real': y_test,'Predito':y_pred}) \n",
    "\n",
    "erro"
   ]
  },
  {
   "cell_type": "code",
   "execution_count": 40,
   "metadata": {},
   "outputs": [
    {
     "name": "stdout",
     "output_type": "stream",
     "text": [
      "[[43  0  0]\n",
      " [ 0 39  0]\n",
      " [ 0  4 34]]\n",
      "              precision    recall  f1-score   support\n",
      "\n",
      "   Dano-Alto       1.00      1.00      1.00        43\n",
      "  Dano-Baixo       0.91      1.00      0.95        39\n",
      "  Dano-Medio       1.00      0.89      0.94        38\n",
      "\n",
      "    accuracy                           0.97       120\n",
      "   macro avg       0.97      0.96      0.97       120\n",
      "weighted avg       0.97      0.97      0.97       120\n",
      "\n"
     ]
    }
   ],
   "source": [
    "# usando a confusion matrix para avaliar a acuracia e demais indicadores\n",
    "from sklearn.metrics import confusion_matrix, classification_report\n",
    "cm = confusion_matrix(y_test, y_pred)\n",
    "cr = classification_report(y_test, y_pred)\n",
    "\n",
    "print(cm)\n",
    "print(cr)"
   ]
  },
  {
   "cell_type": "code",
   "execution_count": null,
   "metadata": {},
   "outputs": [],
   "source": []
  }
 ],
 "metadata": {
  "kernelspec": {
   "display_name": "Python 3",
   "language": "python",
   "name": "python3"
  },
  "language_info": {
   "codemirror_mode": {
    "name": "ipython",
    "version": 3
   },
   "file_extension": ".py",
   "mimetype": "text/x-python",
   "name": "python",
   "nbconvert_exporter": "python",
   "pygments_lexer": "ipython3",
   "version": "3.7.6"
  }
 },
 "nbformat": 4,
 "nbformat_minor": 4
}
